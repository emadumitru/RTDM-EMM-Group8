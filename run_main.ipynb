{
 "cells": [
  {
   "cell_type": "code",
   "execution_count": 1,
   "metadata": {},
   "outputs": [],
   "source": [
    "import pandas as pd\n",
    "import functions"
   ]
  },
  {
   "cell_type": "code",
   "execution_count": 2,
   "metadata": {},
   "outputs": [],
   "source": [
    "path = 'datasets'\n",
    "save_path = 'results'\n",
    "\n",
    "LOAD = 0\n",
    "SKIP_CLEAN = 0"
   ]
  },
  {
   "cell_type": "code",
   "execution_count": 3,
   "metadata": {},
   "outputs": [
    {
     "name": "stdout",
     "output_type": "stream",
     "text": [
      "sd_map_sd timed out\n"
     ]
    }
   ],
   "source": [
    "if LOAD and SKIP_CLEAN:\n",
    "    data = pd.read_csv(f\"{save_path}/clean_metadata.csv\")\n",
    "elif LOAD:\n",
    "    data = pd.read_csv(f\"{save_path}/full_metadata.csv\")\n",
    "else:\n",
    "    data = functions.get_metadata(path, save_path)\n",
    "    data = functions.clean_metada(data, save_path)"
   ]
  },
  {
   "cell_type": "code",
   "execution_count": null,
   "metadata": {},
   "outputs": [],
   "source": [
    "results_mean_var = functions.get_mean_var(data)\n",
    "\n",
    "bin_3, bin_2 = functions.run_meta(data, save_path)"
   ]
  },
  {
   "cell_type": "code",
   "execution_count": null,
   "metadata": {},
   "outputs": [],
   "source": [
    "bin_3[bin_3['Significance']>= 0.01]"
   ]
  },
  {
   "cell_type": "code",
   "execution_count": null,
   "metadata": {},
   "outputs": [],
   "source": [
    "bin_2[bin_2['Significance']>= 0.01]"
   ]
  }
 ],
 "metadata": {
  "kernelspec": {
   "display_name": "Python 3",
   "language": "python",
   "name": "python3"
  },
  "language_info": {
   "codemirror_mode": {
    "name": "ipython",
    "version": 3
   },
   "file_extension": ".py",
   "mimetype": "text/x-python",
   "name": "python",
   "nbconvert_exporter": "python",
   "pygments_lexer": "ipython3",
   "version": "3.11.1"
  }
 },
 "nbformat": 4,
 "nbformat_minor": 2
}

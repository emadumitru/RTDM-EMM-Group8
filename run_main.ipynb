{
 "cells": [
  {
   "cell_type": "code",
   "execution_count": 1,
   "metadata": {},
   "outputs": [],
   "source": [
    "import pandas as pd\n",
    "import functions"
   ]
  },
  {
   "cell_type": "code",
   "execution_count": 2,
   "metadata": {},
   "outputs": [],
   "source": [
    "path = 'datasets'\n",
    "save_path = 'results'\n",
    "\n",
    "LOAD = 0\n",
    "SKIP_CLEAN = 0"
   ]
  },
  {
   "cell_type": "code",
   "execution_count": 3,
   "metadata": {},
   "outputs": [
    {
     "name": "stdout",
     "output_type": "stream",
     "text": [
      "sd_map_sd timed out\n",
      "dssd_sd timed out\n",
      "apriori_sd2 timed out\n"
     ]
    }
   ],
   "source": [
    "if LOAD and SKIP_CLEAN:\n",
    "    data = pd.read_csv(f\"{save_path}/clean_metadata.csv\")\n",
    "elif LOAD:\n",
    "    data = pd.read_csv(f\"{save_path}/full_metadata.csv\")\n",
    "else:\n",
    "    data = functions.get_metadata(path, save_path)\n",
    "    data = functions.clean_metada(data, save_path)"
   ]
  },
  {
   "cell_type": "code",
   "execution_count": 4,
   "metadata": {},
   "outputs": [],
   "source": [
    "results_mean_var = functions.get_mean_var(data)\n",
    "\n",
    "bin_3, bin_2 = functions.run_meta(data, save_path)"
   ]
  },
  {
   "cell_type": "code",
   "execution_count": 5,
   "metadata": {},
   "outputs": [
    {
     "data": {
      "text/html": [
       "<div>\n",
       "<style scoped>\n",
       "    .dataframe tbody tr th:only-of-type {\n",
       "        vertical-align: middle;\n",
       "    }\n",
       "\n",
       "    .dataframe tbody tr th {\n",
       "        vertical-align: top;\n",
       "    }\n",
       "\n",
       "    .dataframe thead th {\n",
       "        text-align: right;\n",
       "    }\n",
       "</style>\n",
       "<table border=\"1\" class=\"dataframe\">\n",
       "  <thead>\n",
       "    <tr style=\"text-align: right;\">\n",
       "      <th></th>\n",
       "      <th>rule</th>\n",
       "      <th>quality</th>\n",
       "      <th>coverage</th>\n",
       "      <th>support</th>\n",
       "      <th>WRAcc</th>\n",
       "      <th>Significance</th>\n",
       "      <th>Confidence</th>\n",
       "    </tr>\n",
       "  </thead>\n",
       "  <tbody>\n",
       "    <tr>\n",
       "      <th>0</th>\n",
       "      <td>IF Algorithm==dssd THEN Quality=Medium</td>\n",
       "      <td>-0.918296</td>\n",
       "      <td>0.202899</td>\n",
       "      <td>0.0</td>\n",
       "      <td>0.0</td>\n",
       "      <td>0.232259</td>\n",
       "      <td>0.0</td>\n",
       "    </tr>\n",
       "    <tr>\n",
       "      <th>3</th>\n",
       "      <td>IF Algorithm!=dssd THEN Support=Medium</td>\n",
       "      <td>-0.811278</td>\n",
       "      <td>0.170732</td>\n",
       "      <td>0.0</td>\n",
       "      <td>0.0</td>\n",
       "      <td>0.048240</td>\n",
       "      <td>0.0</td>\n",
       "    </tr>\n",
       "    <tr>\n",
       "      <th>4</th>\n",
       "      <td>IF Algorithm==cn2_sd THEN Significance=High</td>\n",
       "      <td>-0.918296</td>\n",
       "      <td>0.223881</td>\n",
       "      <td>0.0</td>\n",
       "      <td>0.0</td>\n",
       "      <td>0.059312</td>\n",
       "      <td>0.0</td>\n",
       "    </tr>\n",
       "    <tr>\n",
       "      <th>5</th>\n",
       "      <td>IF Algorithm==dssd THEN Significance=High</td>\n",
       "      <td>-0.918296</td>\n",
       "      <td>0.208955</td>\n",
       "      <td>0.0</td>\n",
       "      <td>0.0</td>\n",
       "      <td>0.177950</td>\n",
       "      <td>0.0</td>\n",
       "    </tr>\n",
       "  </tbody>\n",
       "</table>\n",
       "</div>"
      ],
      "text/plain": [
       "                                          rule   quality  coverage  support  \\\n",
       "0       IF Algorithm==dssd THEN Quality=Medium -0.918296  0.202899      0.0   \n",
       "3       IF Algorithm!=dssd THEN Support=Medium -0.811278  0.170732      0.0   \n",
       "4  IF Algorithm==cn2_sd THEN Significance=High -0.918296  0.223881      0.0   \n",
       "5    IF Algorithm==dssd THEN Significance=High -0.918296  0.208955      0.0   \n",
       "\n",
       "   WRAcc  Significance  Confidence  \n",
       "0    0.0      0.232259         0.0  \n",
       "3    0.0      0.048240         0.0  \n",
       "4    0.0      0.059312         0.0  \n",
       "5    0.0      0.177950         0.0  "
      ]
     },
     "execution_count": 5,
     "metadata": {},
     "output_type": "execute_result"
    }
   ],
   "source": [
    "bin_3[bin_3['Significance']>= 0.01]"
   ]
  },
  {
   "cell_type": "code",
   "execution_count": 6,
   "metadata": {},
   "outputs": [
    {
     "data": {
      "text/html": [
       "<div>\n",
       "<style scoped>\n",
       "    .dataframe tbody tr th:only-of-type {\n",
       "        vertical-align: middle;\n",
       "    }\n",
       "\n",
       "    .dataframe tbody tr th {\n",
       "        vertical-align: top;\n",
       "    }\n",
       "\n",
       "    .dataframe thead th {\n",
       "        text-align: right;\n",
       "    }\n",
       "</style>\n",
       "<table border=\"1\" class=\"dataframe\">\n",
       "  <thead>\n",
       "    <tr style=\"text-align: right;\">\n",
       "      <th></th>\n",
       "      <th>rule</th>\n",
       "      <th>quality</th>\n",
       "      <th>coverage</th>\n",
       "      <th>support</th>\n",
       "      <th>WRAcc</th>\n",
       "      <th>Significance</th>\n",
       "      <th>Confidence</th>\n",
       "    </tr>\n",
       "  </thead>\n",
       "  <tbody>\n",
       "    <tr>\n",
       "      <th>2</th>\n",
       "      <td>IF Algorithm==sd_map THEN Quality=High</td>\n",
       "      <td>-0.918296</td>\n",
       "      <td>0.202899</td>\n",
       "      <td>0.0</td>\n",
       "      <td>0.0</td>\n",
       "      <td>0.718753</td>\n",
       "      <td>0.0</td>\n",
       "    </tr>\n",
       "    <tr>\n",
       "      <th>7</th>\n",
       "      <td>IF Algorithm==cn2_sd THEN Coverage=High</td>\n",
       "      <td>-0.918296</td>\n",
       "      <td>0.182927</td>\n",
       "      <td>0.0</td>\n",
       "      <td>0.0</td>\n",
       "      <td>0.567806</td>\n",
       "      <td>0.0</td>\n",
       "    </tr>\n",
       "    <tr>\n",
       "      <th>10</th>\n",
       "      <td>IF Algorithm==cn2_sd THEN WRAcc=High</td>\n",
       "      <td>-0.918296</td>\n",
       "      <td>0.182927</td>\n",
       "      <td>0.0</td>\n",
       "      <td>0.0</td>\n",
       "      <td>0.789587</td>\n",
       "      <td>0.0</td>\n",
       "    </tr>\n",
       "    <tr>\n",
       "      <th>15</th>\n",
       "      <td>IF Algorithm!=dssd THEN Length of Rules=High</td>\n",
       "      <td>-0.721928</td>\n",
       "      <td>0.170732</td>\n",
       "      <td>0.0</td>\n",
       "      <td>0.0</td>\n",
       "      <td>1.000000</td>\n",
       "      <td>0.0</td>\n",
       "    </tr>\n",
       "    <tr>\n",
       "      <th>16</th>\n",
       "      <td>IF Algorithm==dssd THEN Length of Rules=Low</td>\n",
       "      <td>-0.918296</td>\n",
       "      <td>0.170732</td>\n",
       "      <td>0.0</td>\n",
       "      <td>0.0</td>\n",
       "      <td>1.000000</td>\n",
       "      <td>0.0</td>\n",
       "    </tr>\n",
       "  </tbody>\n",
       "</table>\n",
       "</div>"
      ],
      "text/plain": [
       "                                            rule   quality  coverage  support  \\\n",
       "2         IF Algorithm==sd_map THEN Quality=High -0.918296  0.202899      0.0   \n",
       "7        IF Algorithm==cn2_sd THEN Coverage=High -0.918296  0.182927      0.0   \n",
       "10          IF Algorithm==cn2_sd THEN WRAcc=High -0.918296  0.182927      0.0   \n",
       "15  IF Algorithm!=dssd THEN Length of Rules=High -0.721928  0.170732      0.0   \n",
       "16   IF Algorithm==dssd THEN Length of Rules=Low -0.918296  0.170732      0.0   \n",
       "\n",
       "    WRAcc  Significance  Confidence  \n",
       "2     0.0      0.718753         0.0  \n",
       "7     0.0      0.567806         0.0  \n",
       "10    0.0      0.789587         0.0  \n",
       "15    0.0      1.000000         0.0  \n",
       "16    0.0      1.000000         0.0  "
      ]
     },
     "execution_count": 6,
     "metadata": {},
     "output_type": "execute_result"
    }
   ],
   "source": [
    "bin_2[bin_2['Significance']>= 0.01]"
   ]
  }
 ],
 "metadata": {
  "kernelspec": {
   "display_name": "Python 3",
   "language": "python",
   "name": "python3"
  },
  "language_info": {
   "codemirror_mode": {
    "name": "ipython",
    "version": 3
   },
   "file_extension": ".py",
   "mimetype": "text/x-python",
   "name": "python",
   "nbconvert_exporter": "python",
   "pygments_lexer": "ipython3",
   "version": "3.11.1"
  }
 },
 "nbformat": 4,
 "nbformat_minor": 2
}
